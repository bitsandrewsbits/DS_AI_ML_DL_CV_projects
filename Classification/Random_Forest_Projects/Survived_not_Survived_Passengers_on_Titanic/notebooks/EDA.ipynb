{
  "nbformat": 4,
  "nbformat_minor": 0,
  "metadata": {
    "colab": {
      "provenance": []
    },
    "kernelspec": {
      "name": "python3",
      "display_name": "Python 3"
    },
    "language_info": {
      "name": "python"
    }
  },
  "cells": [
    {
      "cell_type": "code",
      "execution_count": null,
      "metadata": {
        "id": "aESjTZkCVad2"
      },
      "outputs": [],
      "source": [
        "import numpy as np\n",
        "import pandas as pd\n",
        "import seaborn as sns\n",
        "import matplotlib.pyplot as plt"
      ]
    },
    {
      "cell_type": "code",
      "source": [
        "CSV_dataset_URL = \"https://raw.githubusercontent.com/datasciencedojo/datasets/master/titanic.csv\"\n",
        "dataset_df = pd.read_csv(CSV_dataset_URL)\n",
        "dataset_columns = dataset_df.columns"
      ],
      "metadata": {
        "id": "mTZLXzjYVscF"
      },
      "execution_count": null,
      "outputs": []
    },
    {
      "cell_type": "code",
      "source": [
        "print(dataset_df.dtypes)"
      ],
      "metadata": {
        "id": "BvpcLoAzWNjN"
      },
      "execution_count": null,
      "outputs": []
    },
    {
      "cell_type": "code",
      "source": [
        "number_columns = ['Survived', 'Pclass', 'SibSp', 'Parch', 'Fare']\n",
        "categorical_columns = ['Name', 'Sex', 'Ticket', 'Cabin', 'Embarked']"
      ],
      "metadata": {
        "id": "lRm8YiTSWxsU"
      },
      "execution_count": null,
      "outputs": []
    }
  ]
}